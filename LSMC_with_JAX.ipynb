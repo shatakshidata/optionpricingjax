{
  "nbformat": 4,
  "nbformat_minor": 0,
  "metadata": {
    "colab": {
      "provenance": [],
      "include_colab_link": true
    },
    "kernelspec": {
      "name": "python3",
      "display_name": "Python 3"
    },
    "accelerator": "GPU",
    "gpuClass": "standard"
  },
  "cells": [
    {
      "cell_type": "markdown",
      "metadata": {
        "id": "view-in-github",
        "colab_type": "text"
      },
      "source": [
        "<a href=\"https://colab.research.google.com/github/shatakshidata/optionpricingjax/blob/main/LSMC_with_JAX.ipynb\" target=\"_parent\"><img src=\"https://colab.research.google.com/assets/colab-badge.svg\" alt=\"Open In Colab\"/></a>"
      ]
    },
    {
      "cell_type": "markdown",
      "source": [
        "Due date: October 31 2024"
      ],
      "metadata": {
        "id": "Umss_PvMjmPG"
      }
    },
    {
      "cell_type": "markdown",
      "source": [
        "# Description\n",
        "  In this problem we will use apply the LSMC method to price American put options. Specifically, we will replicate the result in the first row, 6th column of Table 1 in [Longstaff and Schwartz 2001](https://www.anderson.ucla.edu/documents/areas/fac/finance/least_squares.pdf)\n",
        "\n",
        "\n"
      ],
      "metadata": {
        "id": "UNMPZrw6ucMH"
      }
    },
    {
      "cell_type": "markdown",
      "source": [
        "# Part 1\n",
        "The code below simulates the evolution of a stock price that follows a geometric brownian motion using JAX\n"
      ],
      "metadata": {
        "id": "qszv8niMdzJK"
      }
    },
    {
      "cell_type": "markdown",
      "source": [
        "Solution"
      ],
      "metadata": {
        "id": "c-ev2xselN4s"
      }
    },
    {
      "cell_type": "code",
      "source": [
        "import jax\n",
        "import jax.numpy as jnp\n",
        "from jax import jit, grad\n",
        "import optax\n",
        "from jax import random\n",
        "\n",
        "# Data\n",
        "σ = 0.04\n",
        "r = 0.01\n",
        "K = 35\n",
        "\n",
        "# Design choice\n",
        "dt = 0.01\n",
        "m = 100\n",
        "\n",
        "def simulate():\n",
        "  jnp.random.seed(0)\n",
        "\n",
        "  def step(S):\n",
        "    dZ = jnp.random.normal(size=S.size) * jnp.sqrt(dt)\n",
        "    dS = r * S  * dt + σ  * S  * dZ\n",
        "    S = S + dS\n",
        "    return S\n",
        "\n",
        "  S0 = jnp.ones(20000)\n",
        "  S = S0\n",
        "  S_list = []\n",
        "\n",
        "  for t in range(m):\n",
        "    S = step(S)\n",
        "    S_list.append(S)\n",
        "\n",
        "  S_array = jnp.stack(S_list)\n",
        "  return S_array"
      ],
      "metadata": {
        "id": "ksBb72yUjQeY"
      },
      "execution_count": null,
      "outputs": []
    },
    {
      "cell_type": "markdown",
      "source": [
        "# Part 2\n",
        "Jit Compiled version of code\n"
      ],
      "metadata": {
        "id": "-sYIUZ1QfF-i"
      }
    },
    {
      "cell_type": "markdown",
      "source": [
        "Solution"
      ],
      "metadata": {
        "id": "XJ9KfjQ1lPvU"
      }
    },
    {
      "cell_type": "code",
      "source": [
        "import jax\n",
        "import jax.numpy as jnp\n",
        "from jax import jit, grad\n",
        "import optax\n",
        "from jax import random\n",
        "\n",
        "# Data\n",
        "σ = 0.04\n",
        "r = 0.01\n",
        "K = 35\n",
        "\n",
        "# Design choice\n",
        "dt = 0.01\n",
        "m = 100\n",
        "\n",
        "@jax.jit\n",
        "def simulate():\n",
        "  key = random.PRNGKey(0)\n",
        "\n",
        "  def step(S, key):\n",
        "    dZ = random.normal(key, shape=S.shape) * jnp.sqrt(dt)\n",
        "    dS = r * S  * dt + σ  * S  * dZ\n",
        "    S = S + dS\n",
        "    return S, key\n",
        "\n",
        "  S0 = jnp.ones(20000)\n",
        "  S = S0\n",
        "  S_list = []\n",
        "\n",
        "  def body_fun(S, key):\n",
        "    S, key = step(S, key)\n",
        "    return (S, key)\n",
        "\n",
        "  S_final, _ = lax.scan(body_fn, S, random.split(key, m))\n",
        "\n",
        "  S_array = simulate()\n",
        "  return S_array\n"
      ],
      "metadata": {
        "id": "3f9EugxnjHaM"
      },
      "execution_count": null,
      "outputs": []
    },
    {
      "cell_type": "markdown",
      "source": [
        "# Part 3\n",
        "The code below computes the price of an American Put option using Least Squares Monte Carlo (LSMC) with JAX library"
      ],
      "metadata": {
        "id": "YdCFrHUafwBh"
      }
    },
    {
      "cell_type": "markdown",
      "source": [
        "Solution"
      ],
      "metadata": {
        "id": "xDUCuQiFlF1v"
      }
    },
    {
      "cell_type": "code",
      "source": [
        "import jax.numpy as jnp\n",
        "from jax import random, jit\n",
        "\n",
        "Spot = 36   # stock price\n",
        "σ = 0.2     # stock volatility\n",
        "K = 40      # strike price\n",
        "r = 0.06    # risk free rate\n",
        "n = 100000  # Number of simualted paths\n",
        "m = 50      # number of exercise dates\n",
        "T = 1       # maturity\n",
        "order = 12   # Polynmial order\n",
        "Δt = T / m  # interval between two exercise dates\n",
        "\n",
        "\n",
        "# Construct polynomial features of order up to k using the\n",
        "# recursive formulation\n",
        "\n",
        "\n",
        "def chebyshev_basis(x, K):\n",
        "    B = [jnp.ones(len(x)), x]\n",
        "    for n in range(2, K+1):\n",
        "        Bn = 2 * x * B[n - 1] - B[n - 2]\n",
        "        B.append(Bn)\n",
        "\n",
        "    return jnp.column_stack(B)\n",
        "\n",
        "\n",
        "# scales x to be in the interval(-1, 1)\n",
        "def scale(x):\n",
        "    xmin = x.min()\n",
        "    xmax = x.max()\n",
        "    a = 2 / (xmax - xmin)\n",
        "    b = 1 - a * xmax\n",
        "    return a * x + b\n",
        "\n",
        "\n",
        "# simulates one step of the stock price evolution\n",
        "def step(S, key):\n",
        "    dB = jnp.sqrt(Δt) * random.normal(key, shape=S.shape)\n",
        "    S_tp1 = S + r * S * Δt + σ * S * dB\n",
        "    return S_tp1\n",
        "\n",
        "\n",
        "def payoff_put(S):\n",
        "    return jnp.maximum(K - S, 0.)\n",
        "\n",
        "\n",
        "# LSMC algorithm\n",
        "@jit\n",
        "def compute_price():\n",
        "    key = random.PRNGKey(0)\n",
        "    S0 = Spot * jnp.ones(n)\n",
        "    S = [S0]\n",
        "\n",
        "    keys = random.split(key, m)\n",
        "\n",
        "    for t in range(m):\n",
        "        S_tp1 = step(S[t], keys[t])\n",
        "        S.append(S_tp1)\n",
        "\n",
        "    discount = jnp.exp(-r * Δt)\n",
        "\n",
        "    # Very last date\n",
        "    value_if_exercise = payoff_put(S[-1])\n",
        "    discounted_future_cashflows = value_if_exercise * discount\n",
        "\n",
        "    # Proceed recursively\n",
        "    for i in range(m - 1):\n",
        "        X = chebyshev_basis(scale(S[-2 - i]), order)\n",
        "        Y = discounted_future_cashflows\n",
        "\n",
        "        Θ = jnp.linalg.solve(X.T @ X, X.T @ Y)\n",
        "        value_if_wait = X @ Θ\n",
        "        value_if_exercise = payoff_put(S[-2 - i])\n",
        "        exercise = value_if_exercise >= value_if_wait\n",
        "        discounted_future_cashflows = discount * jnp.where(\n",
        "            exercise,\n",
        "            value_if_exercise,\n",
        "            discounted_future_cashflows)\n",
        "\n",
        "    return discounted_future_cashflows.mean()\n",
        "\n",
        "# Running the simulation\n",
        "price = compute_price()\n",
        "print(price)\n",
        "\n",
        "#test = compute_price(order, Spot, σ, K, r)\n"
      ],
      "metadata": {
        "colab": {
          "base_uri": "https://localhost:8080/"
        },
        "id": "Wg3USR0R16Zg",
        "outputId": "2c7268ca-8c53-4437-f4bb-ddd18af7d725"
      },
      "execution_count": null,
      "outputs": [
        {
          "output_type": "stream",
          "name": "stdout",
          "text": [
            "4.4808407\n"
          ]
        }
      ]
    }
  ]
}